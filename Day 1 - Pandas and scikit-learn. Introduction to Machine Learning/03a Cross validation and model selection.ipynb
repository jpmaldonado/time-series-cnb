{
 "cells": [
  {
   "cell_type": "code",
   "execution_count": 3,
   "metadata": {},
   "outputs": [],
   "source": [
    "# -*- coding: utf-8 -*-\n",
    "\"\"\"\n",
    "Created on Tue Feb 20 13:12:40 2018\n",
    "\n",
    "@author: jpmaldonado\n",
    "\"\"\"\n",
    "\n",
    "'''\n",
    "Motivation: \n",
    "    Recall from the previous lecture the \"guide\" to choose an estimator\n",
    "        http://scikit-learn.org/stable/tutorial/machine_learning_map/index.html\n",
    "        \n",
    "    This is an unrealistically long list of algorithms to learn in 4 sessions. \n",
    "Instead, we will do some practical exercise to see how to decide whether:\n",
    "    - how to find the best parameters of a model\n",
    "    - decide when and whether a different model is needed\n",
    "    - decide when more data is needed\n",
    "'''\n",
    "\n",
    "\n",
    "######################################\n",
    "## Model complexity and Grid Search \n",
    "######################################\n",
    "\n",
    "import numpy as np\n",
    "import matplotlib.pyplot as plt\n",
    "%matplotlib inline\n",
    "from sklearn.model_selection import cross_val_score, KFold\n",
    "from sklearn.neighbors import KNeighborsRegressor\n",
    "# generate toy dataset:\n",
    "x = np.linspace(-3, 3, 100)\n",
    "y = np.sin(4 * x) + x + np.random.normal(size=len(x))\n",
    "X = x[:, np.newaxis]\n",
    "        "
   ]
  },
  {
   "cell_type": "code",
   "execution_count": 4,
   "metadata": {},
   "outputs": [
    {
     "name": "stdout",
     "output_type": "stream",
     "text": [
      "********************\n",
      "n_neighbors:  1\n",
      "average score:  0.554256392405136\n",
      "********************\n",
      "n_neighbors:  3\n",
      "average score:  0.6634899485704833\n",
      "********************\n",
      "n_neighbors:  5\n",
      "average score:  0.7197360439569428\n",
      "********************\n",
      "n_neighbors:  10\n",
      "average score:  0.6924422323062139\n",
      "********************\n",
      "n_neighbors:  20\n",
      "average score:  0.5542851519193879\n"
     ]
    },
    {
     "data": {
      "text/plain": [
       "<matplotlib.legend.Legend at 0x29b8a75cc50>"
      ]
     },
     "execution_count": 4,
     "metadata": {},
     "output_type": "execute_result"
    },
    {
     "data": {
      "image/png": "[encoded data removed]",
      "text/plain": [
       "<Figure size 432x288 with 1 Axes>"
      ]
     },
     "metadata": {},
     "output_type": "display_data"
    }
   ],
   "source": [
    "cv = KFold(shuffle=True)\n",
    "\n",
    "# for each parameter setting do cross-validation:\n",
    "for n_neighbors in [1, 3, 5, 10, 20]:\n",
    "    scores = cross_val_score(KNeighborsRegressor(n_neighbors=n_neighbors), \n",
    "                             X, y, cv=cv)\n",
    "    print('*'*20)\n",
    "    print(\"n_neighbors: \", n_neighbors) \n",
    "    print(\"average score: \", np.mean(scores))\n",
    "\n",
    "\n",
    "from sklearn.model_selection import validation_curve\n",
    "n_neighbors = [1, 3, 5, 10, 20]\n",
    "train_scores, test_scores = validation_curve(KNeighborsRegressor(), X, y, \n",
    "                                             param_name=\"n_neighbors\",\n",
    "                                             param_range=n_neighbors, cv=cv)\n",
    "plt.plot(n_neighbors, train_scores.mean(axis=1), 'b', label=\"train accuracy\")\n",
    "plt.plot(n_neighbors, test_scores.mean(axis=1), 'g', label=\"test accuracy\")\n",
    "plt.ylabel('Accuracy')\n",
    "plt.xlabel('Number of neighbors')\n",
    "plt.xlim([0, 20])\n",
    "plt.legend(loc=\"best\")\n"
   ]
  },
  {
   "cell_type": "code",
   "execution_count": 5,
   "metadata": {},
   "outputs": [
    {
     "data": {
      "text/plain": [
       "'\\n- Find the best value of n_estimators for RandomForestClassifier\\nin the digits dataset.          \\n- Compare the learning curve of RandomForestClassifier and LogisticRegression\\n'"
      ]
     },
     "execution_count": 5,
     "metadata": {},
     "output_type": "execute_result"
    },
    {
     "data": {
      "image/png": "[encoded data removed]",
      "text/plain": [
       "<Figure size 432x288 with 1 Axes>"
      ]
     },
     "metadata": {},
     "output_type": "display_data"
    }
   ],
   "source": [
    "\n",
    "\n",
    "######################################\n",
    "## Learning curve\n",
    "######################################\n",
    "''' \n",
    "Fancier one here: \n",
    "http://scikit-learn.org/stable/auto_examples/model_selection/plot_learning_curve.html\n",
    "'''\n",
    "\n",
    "from sklearn.ensemble import RandomForestClassifier\n",
    "from sklearn.datasets import load_digits\n",
    "from sklearn.model_selection import learning_curve\n",
    "\n",
    "digits = load_digits()\n",
    "X, y = digits.data, digits.target\n",
    "\n",
    "clf = RandomForestClassifier(n_estimators = 2)\n",
    "train_sizes, train_scores, test_scores = learning_curve(\n",
    "        clf, X, y)\n",
    "\n",
    "plt.plot(train_sizes, np.mean(train_scores, axis=1), label=\"Train score\")\n",
    "plt.plot(train_sizes, np.mean(test_scores, axis=1), label = \"Test score\")\n",
    "plt.legend(loc=\"best\")\n"
   ]
  },
  {
   "cell_type": "markdown",
   "metadata": {},
   "source": [
    "## EXERCISE \n",
    "\n",
    "- Find the best value of n_estimators for RandomForestClassifier\n",
    "in the `iris` dataset.          \n",
    "- Compare the learning curve of RandomForestClassifier and LogisticRegression\n"
   ]
  }
 ],
 "metadata": {
  "kernelspec": {
   "display_name": "Python 3",
   "language": "python",
   "name": "python3"
  },
  "language_info": {
   "codemirror_mode": {
    "name": "ipython",
    "version": 3
   },
   "file_extension": ".py",
   "mimetype": "text/x-python",
   "name": "python",
   "nbconvert_exporter": "python",
   "pygments_lexer": "ipython3",
   "version": "3.6.5"
  }
 },
 "nbformat": 4,
 "nbformat_minor": 2
}
