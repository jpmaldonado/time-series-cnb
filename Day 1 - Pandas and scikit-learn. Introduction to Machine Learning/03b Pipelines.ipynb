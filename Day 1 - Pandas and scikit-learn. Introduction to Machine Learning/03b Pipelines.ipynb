{
 "cells": [
  {
   "cell_type": "code",
   "execution_count": 7,
   "metadata": {},
   "outputs": [
    {
     "data": {
      "text/plain": [
       "array(['M', 'R'], dtype=object)"
      ]
     },
     "execution_count": 7,
     "metadata": {},
     "output_type": "execute_result"
    }
   ],
   "source": [
    "import pandas as pd\n",
    "\n",
    "df = pd.read_csv(\"./data/sonar.csv\")\n",
    "\n",
    "# Mmm wrong headers\n",
    "len(df.columns)\n",
    "\n",
    "# Read it again with the correct headers\n",
    "cols = ['att_' + str(c+1) for c in range(60)]+['class']\n",
    "df = pd.read_csv(\"./data/sonar.csv\", header = None, names = cols)\n",
    "\n",
    "# scikit-learn needs numeric values (unlike, e.g. R)... \n",
    "from sklearn.preprocessing import LabelEncoder\n",
    "\n",
    "le = LabelEncoder()\n",
    "df['class_numeric'] = le.fit_transform(df['class'])\n",
    "\n",
    "# A different way\n",
    "df['class_test'] = df['class'].apply(lambda x: 1 if x=='R' else 0)                            \n",
    "\n",
    "# Let's get rid of it\n",
    "df.drop('class_test', axis=1, inplace=True)\n",
    "df.drop('class', axis=1, inplace=True)\n",
    "\n",
    "# Show the classes\n",
    "le.classes_"
   ]
  },
  {
   "cell_type": "code",
   "execution_count": 8,
   "metadata": {},
   "outputs": [
    {
     "name": "stderr",
     "output_type": "stream",
     "text": [
      "C:\\Users\\pablo\\Anaconda3\\envs\\cnb\\lib\\site-packages\\sklearn\\preprocessing\\label.py:151: DeprecationWarning: The truth value of an empty array is ambiguous. Returning False, but in future this will result in an error. Use `array.size > 0` to check that an array is not empty.\n",
      "  if diff:\n"
     ]
    },
    {
     "data": {
      "text/plain": [
       "array(['M', 'R', 'M'], dtype=object)"
      ]
     },
     "execution_count": 8,
     "metadata": {},
     "output_type": "execute_result"
    }
   ],
   "source": [
    "# Compute results back\n",
    "le.inverse_transform([0,1,0])"
   ]
  },
  {
   "cell_type": "code",
   "execution_count": 9,
   "metadata": {},
   "outputs": [],
   "source": [
    "########################\n",
    "# Introducing pipelines\n",
    "########################\n",
    "\n",
    "X = df[[c for c in df.columns if c != 'class_numeric']].copy().values\n",
    "y = df['class_numeric'].copy().values\n",
    "\n"
   ]
  },
  {
   "cell_type": "code",
   "execution_count": 15,
   "metadata": {},
   "outputs": [
    {
     "data": {
      "text/plain": [
       "0.9038461538461539"
      ]
     },
     "execution_count": 15,
     "metadata": {},
     "output_type": "execute_result"
    }
   ],
   "source": [
    "# Recap: how would we apply logistic regression?\n",
    "from sklearn.linear_model import LogisticRegression\n",
    "lr = LogisticRegression()\n",
    "\n",
    "# train/test split\n",
    "from sklearn.model_selection import train_test_split\n",
    "\n",
    "X_train, X_test, y_train, y_test = train_test_split(X,y, random_state = 42 )\n",
    "\n",
    "lr.fit(X_train,y_train)\n",
    "lr.score(X_test,y_test)\n"
   ]
  },
  {
   "cell_type": "code",
   "execution_count": 16,
   "metadata": {},
   "outputs": [
    {
     "data": {
      "text/plain": [
       "0.8269230769230769"
      ]
     },
     "execution_count": 16,
     "metadata": {},
     "output_type": "execute_result"
    }
   ],
   "source": [
    "'''\n",
    "Easy enough... but not the full story... Sometimes we need to:\n",
    "- be sure that the data is in the same scale      \n",
    "'''     \n",
    "from sklearn.preprocessing import StandardScaler\n",
    "scl = StandardScaler()\n",
    "\n",
    "X_train_rescaled = scl.fit_transform(X_train)\n",
    "X_test_rescaled = scl.transform(X_test)\n",
    "\n",
    "# fit the model again\n",
    "lr.fit(X_train_rescaled,y_train)\n",
    "lr.score(X_test_rescaled, y_test)\n",
    "\n"
   ]
  },
  {
   "cell_type": "code",
   "execution_count": 17,
   "metadata": {},
   "outputs": [
    {
     "data": {
      "text/plain": [
       "0.8269230769230769"
      ]
     },
     "execution_count": 17,
     "metadata": {},
     "output_type": "execute_result"
    }
   ],
   "source": [
    "# so, better! Sometimes it's better to have a more structured workflow\n",
    "\n",
    "from sklearn.pipeline import Pipeline\n",
    "\n",
    "estimator = Pipeline(steps = [('z-score',scl), \n",
    "                              ('lr', lr)])\n",
    "estimator.fit(X_train,y_train)    \n",
    "estimator.score(X_test,y_test)\n"
   ]
  }
 ],
 "metadata": {
  "kernelspec": {
   "display_name": "Python 3",
   "language": "python",
   "name": "python3"
  },
  "language_info": {
   "codemirror_mode": {
    "name": "ipython",
    "version": 3
   },
   "file_extension": ".py",
   "mimetype": "text/x-python",
   "name": "python",
   "nbconvert_exporter": "python",
   "pygments_lexer": "ipython3",
   "version": "3.6.5"
  }
 },
 "nbformat": 4,
 "nbformat_minor": 2
}
