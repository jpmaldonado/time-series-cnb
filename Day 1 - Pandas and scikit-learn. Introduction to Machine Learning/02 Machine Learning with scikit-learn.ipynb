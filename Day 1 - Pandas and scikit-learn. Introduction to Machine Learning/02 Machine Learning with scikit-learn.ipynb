{
 "cells": [
  {
   "cell_type": "code",
   "execution_count": 2,
   "metadata": {},
   "outputs": [
    {
     "name": "stdout",
     "output_type": "stream",
     "text": [
      "[0 0 0 0 0 0 0 0 0 0 0 0 0 0 0 0 0 0 0 0 0 0 0 0 0 0 0 0 0 0 0 0 0 0 0 0 0\n",
      " 0 0 0 0 0 0 0 0 0 0 0 0 0 1 1 1 1 1 1 1 1 1 1 1 1 1 1 1 1 1 1 1 1 1 1 1 1\n",
      " 1 1 1 1 1 1 1 1 1 1 1 1 1 1 1 1 1 1 1 1 1 1 1 1 1 1 2 2 2 2 2 2 2 2 2 2 2\n",
      " 2 2 2 2 2 2 2 2 2 2 2 2 2 2 2 2 2 2 2 2 2 2 2 2 2 2 2 2 2 2 2 2 2 2 2 2 2\n",
      " 2 2]\n",
      "(150,)\n",
      "(150, 4)\n",
      "['setosa' 'versicolor' 'virginica']\n"
     ]
    },
    {
     "data": {
      "text/plain": [
       "<matplotlib.image.AxesImage at 0x2385d2fbb00>"
      ]
     },
     "execution_count": 2,
     "metadata": {},
     "output_type": "execute_result"
    },
    {
     "data": {
      "image/png": "[encoded data removed]",
      "text/plain": [
       "<Figure size 432x288 with 1 Axes>"
      ]
     },
     "metadata": {},
     "output_type": "display_data"
    }
   ],
   "source": [
    "# -*- coding: utf-8 -*-\n",
    "\"\"\"\n",
    "Created on Thu Feb 15 08:43:06 2018\n",
    "\n",
    "@author: jpmaldonado\n",
    "\"\"\"\n",
    "\n",
    "\n",
    "'''\n",
    "LECTURE OUTLINE\n",
    "\n",
    "* What is machine learning? (Discussion, examples)\n",
    "* Goals of machine learning:\n",
    "        - Automatic decision making\n",
    "        - Generalization\n",
    "\n",
    "* Supervised Learning\n",
    "    - Classification\n",
    "    - Regression\n",
    "    - Ranking\n",
    "* Unsupervised Learning\n",
    "    - Clustering\n",
    "    - Dimensionality Reduction\n",
    "    - Anomaly Detection\n",
    "    \n",
    "* scikit-learn\n",
    "'''\n",
    "\n",
    "####################################\n",
    "## Data representation in sklearn\n",
    "####################################\n",
    "\n",
    "# In scikit-learn data is represented as a two dimensional array\n",
    "# of shape [n_samples, n_features]\n",
    "\n",
    "# Tabular data\n",
    "from sklearn.datasets import load_iris\n",
    "\n",
    "iris = load_iris() # a 'Bunch' object, some sort of dict\n",
    "\n",
    "iris.keys() # See what's inside\n",
    "\n",
    "n_samples, n_features = iris.data.shape\n",
    "print(iris.target)\n",
    "print(iris.target.shape)\n",
    "print(iris.data.shape)\n",
    "print(iris.target_names)\n",
    "\n",
    "# Image data\n",
    "from sklearn.datasets import load_digits\n",
    "digits = load_digits()\n",
    "\n",
    "# What's inside?\n",
    "digits.keys()\n",
    "digits.images[0]\n",
    "digits.data[0]\n",
    "\n",
    "import matplotlib.pyplot as plt\n",
    "\n",
    "plt.imshow(digits.images[0])\n",
    "plt.imshow(digits.images[0], cmap = plt.cm.binary)\n",
    "\n"
   ]
  },
  {
   "cell_type": "code",
   "execution_count": 3,
   "metadata": {},
   "outputs": [
    {
     "data": {
      "text/plain": [
       "array([[4.13655305e-02, 7.54918189e-01, 2.03716280e-01],\n",
       "       [8.17665650e-01, 1.82244914e-01, 8.94356555e-05],\n",
       "       [5.92179391e-04, 1.80259502e-01, 8.19148319e-01],\n",
       "       [3.74822805e-03, 3.02571905e-01, 6.93679867e-01],\n",
       "       [8.22389770e-01, 1.77511366e-01, 9.88645576e-05],\n",
       "       [8.45448771e-01, 1.54504556e-01, 4.66737486e-05],\n",
       "       [2.55260053e-04, 3.26315249e-01, 6.73429490e-01],\n",
       "       [2.47175172e-03, 4.96684655e-01, 5.00843594e-01],\n",
       "       [5.29101257e-03, 3.42716087e-01, 6.51992900e-01],\n",
       "       [7.96475511e-01, 2.03473883e-01, 5.06062252e-05],\n",
       "       [9.09202726e-01, 9.07774963e-02, 1.97776752e-05],\n",
       "       [5.62332639e-03, 4.96747244e-01, 4.97629430e-01],\n",
       "       [1.04980883e-03, 3.06937555e-01, 6.92012636e-01],\n",
       "       [1.03611267e-02, 5.75452944e-01, 4.14185930e-01],\n",
       "       [2.65878566e-04, 2.57682344e-01, 7.42051777e-01],\n",
       "       [9.90619734e-03, 7.10967069e-01, 2.79126733e-01],\n",
       "       [8.52311381e-01, 1.47617063e-01, 7.15564359e-05],\n",
       "       [9.11840538e-01, 8.81452144e-02, 1.42477312e-05],\n",
       "       [8.55352737e-01, 1.44626481e-01, 2.07823134e-05],\n",
       "       [9.34032865e-01, 6.59634876e-02, 3.64785800e-06],\n",
       "       [8.81534774e-01, 1.18439342e-01, 2.58842195e-05],\n",
       "       [1.04929182e-03, 3.53079634e-01, 6.45871074e-01],\n",
       "       [4.25184621e-03, 3.47234744e-01, 6.48513409e-01],\n",
       "       [2.42676668e-02, 5.50538857e-01, 4.25193477e-01],\n",
       "       [8.83669571e-05, 3.68679358e-01, 6.31232275e-01],\n",
       "       [1.20436374e-03, 3.66620456e-01, 6.32175180e-01],\n",
       "       [1.00630236e-01, 7.57169345e-01, 1.42200419e-01],\n",
       "       [2.21036621e-02, 7.01225178e-01, 2.76671160e-01],\n",
       "       [3.81293131e-03, 5.38028096e-01, 4.58158972e-01],\n",
       "       [5.46796203e-02, 8.00753709e-01, 1.44566670e-01]])"
      ]
     },
     "execution_count": 3,
     "metadata": {},
     "output_type": "execute_result"
    }
   ],
   "source": [
    "####################################\n",
    "# Classification\n",
    "####################################\n",
    "\n",
    "# Which model to use?\n",
    "# http://scikit-learn.org/stable/tutorial/machine_learning_map/index.html\n",
    "\n",
    "X, y = iris.data, iris.target\n",
    "\n",
    "from sklearn.neighbors import KNeighborsClassifier\n",
    "clf = KNeighborsClassifier()\n",
    "\n",
    "# Train/ test split\n",
    "y[0:50]\n",
    "y[50:100]\n",
    "y[100:]\n",
    "\n",
    "from sklearn.model_selection import train_test_split\n",
    "\n",
    "X_train, X_test, y_train, y_test = train_test_split(X,y,train_size = 0.8,\n",
    "                                                    test_size = 0.2, \n",
    "                                                    random_state = 123, \n",
    "                                                    stratify = y)\n",
    "\n",
    "clf.fit(X_train,y_train) # Fit the model\n",
    "y_preds = clf.predict(X_test) # Prediction\n",
    "sum(y_test!=y_preds) # How many errors?\n",
    "y_preds[y_test != y_preds] #Where is the error?\n",
    "y_test[y_test != y_preds]\n",
    "## QUESTION: Does this suggest a way to improve our classifier?\n",
    "\n",
    "#Try a different classifier: logistic regression\n",
    "from sklearn.linear_model import LogisticRegression\n",
    "clf = LogisticRegression()\n",
    "clf.fit(X_train, y_train)\n",
    "y_preds = clf.predict(X_test)\n",
    "sum(y_test != y_preds)\n",
    "\n",
    "# LR can also predict class probabilities\n",
    "clf.predict_proba(X_test)\n"
   ]
  },
  {
   "cell_type": "code",
   "execution_count": 6,
   "metadata": {},
   "outputs": [
    {
     "data": {
      "text/plain": [
       "<matplotlib.collections.PathCollection at 0x2385d6f32b0>"
      ]
     },
     "execution_count": 6,
     "metadata": {},
     "output_type": "execute_result"
    },
    {
     "data": {
      "image/png": "[encoded data removed]",
      "text/plain": [
       "<Figure size 432x288 with 1 Axes>"
      ]
     },
     "metadata": {},
     "output_type": "display_data"
    }
   ],
   "source": [
    "####################################\n",
    "# Regression\n",
    "####################################\n",
    "import numpy as np\n",
    "\n",
    "x = np.linspace(-3,3,100)\n",
    "y = 2*x + 3 + 0.1*np.random.normal(size=len(x))\n",
    "\n",
    "plt.scatter(x,y)\n"
   ]
  },
  {
   "cell_type": "code",
   "execution_count": 7,
   "metadata": {},
   "outputs": [
    {
     "name": "stdout",
     "output_type": "stream",
     "text": [
      "[2.00598743]\n",
      "2.9946897179012084\n"
     ]
    },
    {
     "data": {
      "text/plain": [
       "array([12.02163313])"
      ]
     },
     "execution_count": 7,
     "metadata": {},
     "output_type": "execute_result"
    }
   ],
   "source": [
    "x = x.reshape(-1,1)\n",
    "\n",
    "from sklearn.linear_model import LinearRegression\n",
    "\n",
    "x_train, x_test, y_train, y_test = train_test_split(x,\n",
    "                                                    y,\n",
    "                                                    train_size = 0.8, \n",
    "                                                    test_size = 0.2, \n",
    "                                                    random_state = 123\n",
    "                                                    )\n",
    "\n",
    "clf = LinearRegression()\n",
    "clf.fit(x_train, y_train)\n",
    "print(clf.coef_)\n",
    "print(clf.intercept_)\n",
    "\n",
    "\n",
    "# Measuring error: MSE\n",
    "\n",
    "y_preds = clf.predict(x_test)\n",
    "MSE = sum((y_preds-y_test)**2)/len(y_test)\n",
    "\n",
    "clf.predict([[4.5]])\n",
    "\n"
   ]
  },
  {
   "cell_type": "code",
   "execution_count": 5,
   "metadata": {},
   "outputs": [],
   "source": [
    "## EXERCISE: Try linear regression on the Boston dataset\n",
    "from sklearn.datasets import load_boston\n",
    "boston = load_boston()\n"
   ]
  }
 ],
 "metadata": {
  "kernelspec": {
   "display_name": "Python 3",
   "language": "python",
   "name": "python3"
  },
  "language_info": {
   "codemirror_mode": {
    "name": "ipython",
    "version": 3
   },
   "file_extension": ".py",
   "mimetype": "text/x-python",
   "name": "python",
   "nbconvert_exporter": "python",
   "pygments_lexer": "ipython3",
   "version": "3.6.5"
  }
 },
 "nbformat": 4,
 "nbformat_minor": 2
}
