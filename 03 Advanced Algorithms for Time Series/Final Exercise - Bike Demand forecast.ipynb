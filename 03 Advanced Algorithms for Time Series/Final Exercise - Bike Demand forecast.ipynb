{
 "cells": [
  {
   "cell_type": "markdown",
   "metadata": {},
   "source": [
    "# Exercise: Bike demand forecasting\n",
    "\n",
    "* Download the bike sharing dataset:\n",
    "\n",
    "https://archive.ics.uci.edu/ml/datasets/Bike+Sharing+Dataset\n",
    "\n",
    "And create a model to forecast bike demand (the column named `cnt`). \n",
    "\n",
    "You can use any of the techniques used in class:\n",
    "\n",
    "* Neural networks\n",
    "* Random Forests\n",
    "* Fourier transform\n",
    "* Detecting peaks\n",
    "\n",
    "or some of your favorite forecasting techniques (see included notebook).\n",
    "\n",
    "Your model should forecast the last month (30 days)."
   ]
  }
 ],
 "metadata": {
  "kernelspec": {
   "display_name": "Python 3",
   "language": "python",
   "name": "python3"
  },
  "language_info": {
   "codemirror_mode": {
    "name": "ipython",
    "version": 3
   },
   "file_extension": ".py",
   "mimetype": "text/x-python",
   "name": "python",
   "nbconvert_exporter": "python",
   "pygments_lexer": "ipython3",
   "version": "3.6.5"
  }
 },
 "nbformat": 4,
 "nbformat_minor": 2
}
