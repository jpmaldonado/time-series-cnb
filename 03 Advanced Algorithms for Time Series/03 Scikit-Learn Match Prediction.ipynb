{
 "cells": [
  {
   "cell_type": "markdown",
   "metadata": {},
   "source": [
    "# Predicting the outcome of soccer matches\n",
    "\n",
    "In this notebook we will use `keras` to predict the outcome of soccer match. \n",
    "\n",
    "We will use some preprocessed data from the \"European Soccer Database\" (https://www.kaggle.com/hugomathien/soccer)."
   ]
  },
  {
   "cell_type": "markdown",
   "metadata": {},
   "source": [
    "#### 1. Read in the files `matches.csv` and `players.csv`."
   ]
  },
  {
   "cell_type": "code",
   "execution_count": 1,
   "metadata": {},
   "outputs": [],
   "source": [
    "import pandas as pd\n",
    "import numpy as np"
   ]
  },
  {
   "cell_type": "code",
   "execution_count": 2,
   "metadata": {
    "scrolled": true
   },
   "outputs": [],
   "source": [
    "df = pd.read_csv(\"./data/matches.csv\", index_col='id')\n",
    "p = pd.read_csv(\"./data/players.csv\")"
   ]
  },
  {
   "cell_type": "code",
   "execution_count": 3,
   "metadata": {},
   "outputs": [
    {
     "data": {
      "text/html": [
       "<div>\n",
       "<style scoped>\n",
       "    .dataframe tbody tr th:only-of-type {\n",
       "        vertical-align: middle;\n",
       "    }\n",
       "\n",
       "    .dataframe tbody tr th {\n",
       "        vertical-align: top;\n",
       "    }\n",
       "\n",
       "    .dataframe thead th {\n",
       "        text-align: right;\n",
       "    }\n",
       "</style>\n",
       "<table border=\"1\" class=\"dataframe\">\n",
       "  <thead>\n",
       "    <tr style=\"text-align: right;\">\n",
       "      <th></th>\n",
       "      <th>home_team_goal</th>\n",
       "      <th>away_team_goal</th>\n",
       "      <th>home_player_1</th>\n",
       "      <th>home_player_2</th>\n",
       "      <th>home_player_3</th>\n",
       "      <th>home_player_4</th>\n",
       "      <th>home_player_5</th>\n",
       "      <th>home_player_6</th>\n",
       "      <th>home_player_7</th>\n",
       "      <th>home_player_8</th>\n",
       "      <th>...</th>\n",
       "      <th>away_player_2</th>\n",
       "      <th>away_player_3</th>\n",
       "      <th>away_player_4</th>\n",
       "      <th>away_player_5</th>\n",
       "      <th>away_player_6</th>\n",
       "      <th>away_player_7</th>\n",
       "      <th>away_player_8</th>\n",
       "      <th>away_player_9</th>\n",
       "      <th>away_player_10</th>\n",
       "      <th>away_player_11</th>\n",
       "    </tr>\n",
       "    <tr>\n",
       "      <th>id</th>\n",
       "      <th></th>\n",
       "      <th></th>\n",
       "      <th></th>\n",
       "      <th></th>\n",
       "      <th></th>\n",
       "      <th></th>\n",
       "      <th></th>\n",
       "      <th></th>\n",
       "      <th></th>\n",
       "      <th></th>\n",
       "      <th></th>\n",
       "      <th></th>\n",
       "      <th></th>\n",
       "      <th></th>\n",
       "      <th></th>\n",
       "      <th></th>\n",
       "      <th></th>\n",
       "      <th></th>\n",
       "      <th></th>\n",
       "      <th></th>\n",
       "      <th></th>\n",
       "    </tr>\n",
       "  </thead>\n",
       "  <tbody>\n",
       "    <tr>\n",
       "      <th>146</th>\n",
       "      <td>2</td>\n",
       "      <td>1</td>\n",
       "      <td>38327.0</td>\n",
       "      <td>67950.0</td>\n",
       "      <td>67958.0</td>\n",
       "      <td>67959.0</td>\n",
       "      <td>37112.0</td>\n",
       "      <td>36393.0</td>\n",
       "      <td>148286.0</td>\n",
       "      <td>67898.0</td>\n",
       "      <td>...</td>\n",
       "      <td>38293.0</td>\n",
       "      <td>148313.0</td>\n",
       "      <td>104411.0</td>\n",
       "      <td>148314.0</td>\n",
       "      <td>37202.0</td>\n",
       "      <td>43158.0</td>\n",
       "      <td>9307.0</td>\n",
       "      <td>42153.0</td>\n",
       "      <td>32690.0</td>\n",
       "      <td>38782.0</td>\n",
       "    </tr>\n",
       "    <tr>\n",
       "      <th>154</th>\n",
       "      <td>1</td>\n",
       "      <td>3</td>\n",
       "      <td>36835.0</td>\n",
       "      <td>37047.0</td>\n",
       "      <td>37021.0</td>\n",
       "      <td>37051.0</td>\n",
       "      <td>104386.0</td>\n",
       "      <td>32863.0</td>\n",
       "      <td>37957.0</td>\n",
       "      <td>37909.0</td>\n",
       "      <td>...</td>\n",
       "      <td>21812.0</td>\n",
       "      <td>11736.0</td>\n",
       "      <td>37858.0</td>\n",
       "      <td>38366.0</td>\n",
       "      <td>37983.0</td>\n",
       "      <td>39578.0</td>\n",
       "      <td>38336.0</td>\n",
       "      <td>52280.0</td>\n",
       "      <td>27423.0</td>\n",
       "      <td>38440.0</td>\n",
       "    </tr>\n",
       "    <tr>\n",
       "      <th>156</th>\n",
       "      <td>2</td>\n",
       "      <td>0</td>\n",
       "      <td>34480.0</td>\n",
       "      <td>38388.0</td>\n",
       "      <td>26458.0</td>\n",
       "      <td>13423.0</td>\n",
       "      <td>38389.0</td>\n",
       "      <td>30949.0</td>\n",
       "      <td>38393.0</td>\n",
       "      <td>38253.0</td>\n",
       "      <td>...</td>\n",
       "      <td>37886.0</td>\n",
       "      <td>37903.0</td>\n",
       "      <td>37889.0</td>\n",
       "      <td>94030.0</td>\n",
       "      <td>37893.0</td>\n",
       "      <td>37981.0</td>\n",
       "      <td>131531.0</td>\n",
       "      <td>130027.0</td>\n",
       "      <td>38231.0</td>\n",
       "      <td>131530.0</td>\n",
       "    </tr>\n",
       "    <tr>\n",
       "      <th>163</th>\n",
       "      <td>2</td>\n",
       "      <td>1</td>\n",
       "      <td>38327.0</td>\n",
       "      <td>67950.0</td>\n",
       "      <td>67958.0</td>\n",
       "      <td>38801.0</td>\n",
       "      <td>67898.0</td>\n",
       "      <td>37112.0</td>\n",
       "      <td>67959.0</td>\n",
       "      <td>148286.0</td>\n",
       "      <td>...</td>\n",
       "      <td>38388.0</td>\n",
       "      <td>38389.0</td>\n",
       "      <td>31316.0</td>\n",
       "      <td>164694.0</td>\n",
       "      <td>30949.0</td>\n",
       "      <td>38378.0</td>\n",
       "      <td>38383.0</td>\n",
       "      <td>38393.0</td>\n",
       "      <td>38253.0</td>\n",
       "      <td>37069.0</td>\n",
       "    </tr>\n",
       "    <tr>\n",
       "      <th>169</th>\n",
       "      <td>0</td>\n",
       "      <td>0</td>\n",
       "      <td>37900.0</td>\n",
       "      <td>37886.0</td>\n",
       "      <td>37100.0</td>\n",
       "      <td>37903.0</td>\n",
       "      <td>37889.0</td>\n",
       "      <td>37893.0</td>\n",
       "      <td>37981.0</td>\n",
       "      <td>131531.0</td>\n",
       "      <td>...</td>\n",
       "      <td>38247.0</td>\n",
       "      <td>16387.0</td>\n",
       "      <td>94288.0</td>\n",
       "      <td>94284.0</td>\n",
       "      <td>45832.0</td>\n",
       "      <td>26669.0</td>\n",
       "      <td>33671.0</td>\n",
       "      <td>163670.0</td>\n",
       "      <td>37945.0</td>\n",
       "      <td>33622.0</td>\n",
       "    </tr>\n",
       "  </tbody>\n",
       "</table>\n",
       "<p>5 rows × 24 columns</p>\n",
       "</div>"
      ],
      "text/plain": [
       "     home_team_goal  away_team_goal  home_player_1  home_player_2  \\\n",
       "id                                                                  \n",
       "146               2               1        38327.0        67950.0   \n",
       "154               1               3        36835.0        37047.0   \n",
       "156               2               0        34480.0        38388.0   \n",
       "163               2               1        38327.0        67950.0   \n",
       "169               0               0        37900.0        37886.0   \n",
       "\n",
       "     home_player_3  home_player_4  home_player_5  home_player_6  \\\n",
       "id                                                                \n",
       "146        67958.0        67959.0        37112.0        36393.0   \n",
       "154        37021.0        37051.0       104386.0        32863.0   \n",
       "156        26458.0        13423.0        38389.0        30949.0   \n",
       "163        67958.0        38801.0        67898.0        37112.0   \n",
       "169        37100.0        37903.0        37889.0        37893.0   \n",
       "\n",
       "     home_player_7  home_player_8       ...        away_player_2  \\\n",
       "id                                      ...                        \n",
       "146       148286.0        67898.0       ...              38293.0   \n",
       "154        37957.0        37909.0       ...              21812.0   \n",
       "156        38393.0        38253.0       ...              37886.0   \n",
       "163        67959.0       148286.0       ...              38388.0   \n",
       "169        37981.0       131531.0       ...              38247.0   \n",
       "\n",
       "     away_player_3  away_player_4  away_player_5  away_player_6  \\\n",
       "id                                                                \n",
       "146       148313.0       104411.0       148314.0        37202.0   \n",
       "154        11736.0        37858.0        38366.0        37983.0   \n",
       "156        37903.0        37889.0        94030.0        37893.0   \n",
       "163        38389.0        31316.0       164694.0        30949.0   \n",
       "169        16387.0        94288.0        94284.0        45832.0   \n",
       "\n",
       "     away_player_7  away_player_8  away_player_9  away_player_10  \\\n",
       "id                                                                 \n",
       "146        43158.0         9307.0        42153.0         32690.0   \n",
       "154        39578.0        38336.0        52280.0         27423.0   \n",
       "156        37981.0       131531.0       130027.0         38231.0   \n",
       "163        38378.0        38383.0        38393.0         38253.0   \n",
       "169        26669.0        33671.0       163670.0         37945.0   \n",
       "\n",
       "     away_player_11  \n",
       "id                   \n",
       "146         38782.0  \n",
       "154         38440.0  \n",
       "156        131530.0  \n",
       "163         37069.0  \n",
       "169         33622.0  \n",
       "\n",
       "[5 rows x 24 columns]"
      ]
     },
     "execution_count": 3,
     "metadata": {},
     "output_type": "execute_result"
    }
   ],
   "source": [
    "df.head()"
   ]
  },
  {
   "cell_type": "code",
   "execution_count": 4,
   "metadata": {},
   "outputs": [],
   "source": [
    "players = {}\n",
    "\n",
    "for i, k in enumerate(p['player_api_id']):\n",
    "    players[k] = i\n",
    "    \n",
    "ix_players = {v:k for k,v in players.items()}"
   ]
  },
  {
   "cell_type": "markdown",
   "metadata": {},
   "source": [
    "#### 2. Create a vector representation of the match. \n",
    "\n",
    "Each row is one match and each column is one player. We put 1 if the player was a local in that game or -1 if it was from the away team."
   ]
  },
  {
   "cell_type": "code",
   "execution_count": 5,
   "metadata": {},
   "outputs": [],
   "source": [
    "n_players = len(players)\n",
    "n_matches = df.shape[0]\n",
    "team_length = 11"
   ]
  },
  {
   "cell_type": "code",
   "execution_count": 6,
   "metadata": {},
   "outputs": [],
   "source": [
    "def vectorize_match(match_id):\n",
    "    # Initialize vector\n",
    "    vector = np.zeros(n_players)\n",
    "    \n",
    "    # Put the winners and losers\n",
    "    for j in range(0,team_length):\n",
    "        vector[players[df.iloc[match_id,j+2]]] = 1\n",
    "        vector[players[df.iloc[match_id,j+2+team_length]]] = -1        \n",
    "    return vector"
   ]
  },
  {
   "cell_type": "code",
   "execution_count": 7,
   "metadata": {},
   "outputs": [],
   "source": [
    "vec = np.zeros(n_players)"
   ]
  },
  {
   "cell_type": "code",
   "execution_count": 8,
   "metadata": {},
   "outputs": [
    {
     "data": {
      "text/plain": [
       "array([0., 0., 0., ..., 0., 0., 0.])"
      ]
     },
     "execution_count": 8,
     "metadata": {},
     "output_type": "execute_result"
    }
   ],
   "source": [
    "vectorize_match(1)"
   ]
  },
  {
   "cell_type": "code",
   "execution_count": 9,
   "metadata": {},
   "outputs": [],
   "source": [
    "X = np.array([vectorize_match(match_id) for match_id in range(df.shape[0])])"
   ]
  },
  {
   "cell_type": "markdown",
   "metadata": {},
   "source": [
    "#### 3. We creat a target with three categories: win, draw and lose."
   ]
  },
  {
   "cell_type": "code",
   "execution_count": 10,
   "metadata": {},
   "outputs": [],
   "source": [
    "\n",
    "y = np.round(((df['home_team_goal']-df['away_team_goal'])/abs(0.01+df['home_team_goal']-df['away_team_goal'])).values)"
   ]
  },
  {
   "cell_type": "code",
   "execution_count": 11,
   "metadata": {},
   "outputs": [
    {
     "data": {
      "text/plain": [
       "array([ 1., -1.,  1., ..., -1.,  1.,  1.])"
      ]
     },
     "execution_count": 11,
     "metadata": {},
     "output_type": "execute_result"
    }
   ],
   "source": [
    "y"
   ]
  },
  {
   "cell_type": "markdown",
   "metadata": {},
   "source": [
    "#### 4.  Split in validation and training data. \n",
    "\n",
    "Since the matches happen sequentially, it makes more sense to split in the first 80% for training and the next 20% for testing. "
   ]
  },
  {
   "cell_type": "code",
   "execution_count": 12,
   "metadata": {},
   "outputs": [],
   "source": [
    "# Split in validation and training data \n",
    "train_idx = int(0.8*X.shape[1])\n",
    "X_train = X[0:train_idx,:]\n",
    "X_test = X[train_idx:,:]\n",
    "y_train = y[0:train_idx]\n",
    "y_test = y[train_idx:]"
   ]
  },
  {
   "cell_type": "code",
   "execution_count": 13,
   "metadata": {},
   "outputs": [
    {
     "data": {
      "text/plain": [
       "(21374, 11060)"
      ]
     },
     "execution_count": 13,
     "metadata": {},
     "output_type": "execute_result"
    }
   ],
   "source": [
    "X.shape"
   ]
  },
  {
   "cell_type": "markdown",
   "metadata": {},
   "source": [
    "#### 5. Create and train the model \n",
    "\n",
    "We will use one hidden layer and an output layer of size 3."
   ]
  },
  {
   "cell_type": "code",
   "execution_count": 14,
   "metadata": {},
   "outputs": [
    {
     "data": {
      "text/plain": [
       "MLPClassifier(activation='relu', alpha=0.0001, batch_size='auto', beta_1=0.9,\n",
       "       beta_2=0.999, early_stopping=False, epsilon=1e-08,\n",
       "       hidden_layer_sizes=(5, 5, 3), learning_rate='constant',\n",
       "       learning_rate_init=0.001, max_iter=200, momentum=0.9,\n",
       "       nesterovs_momentum=True, power_t=0.5, random_state=None,\n",
       "       shuffle=True, solver='adam', tol=0.0001, validation_fraction=0.1,\n",
       "       verbose=False, warm_start=False)"
      ]
     },
     "execution_count": 14,
     "metadata": {},
     "output_type": "execute_result"
    }
   ],
   "source": [
    "from sklearn.neural_network import MLPClassifier\n",
    "\n",
    "clf = MLPClassifier(hidden_layer_sizes=(5,5,3))\n",
    "\n",
    "clf.fit(X_train,y_train)"
   ]
  },
  {
   "cell_type": "markdown",
   "metadata": {},
   "source": [
    "#### 6. Evaluate the model.\n",
    "\n",
    "We first generate raw predictions and then compare those outcomes with the observed results."
   ]
  },
  {
   "cell_type": "code",
   "execution_count": 15,
   "metadata": {},
   "outputs": [],
   "source": [
    "raw_preds = clf.predict(X_test)"
   ]
  },
  {
   "cell_type": "code",
   "execution_count": 16,
   "metadata": {},
   "outputs": [
    {
     "name": "stdout",
     "output_type": "stream",
     "text": [
      "Percentage of outcomes guessed:  100.0\n"
     ]
    }
   ],
   "source": [
    "outcomes_guessed = sum([np.argmax(y_test[j])==np.argmax(raw_preds[j]) for j in range(y_test.shape[0])])/y_test.shape[0]*100\n",
    "print(\"Percentage of outcomes guessed: \", outcomes_guessed)"
   ]
  },
  {
   "cell_type": "markdown",
   "metadata": {},
   "source": [
    "#### 7. Extensions\n",
    "\n",
    "- Can you improve the model by increasing the number of epochs or changing the architecture of the network?\n",
    "- How could you modify the model to predict the outcome difference instead of winners/losers/draws?"
   ]
  }
 ],
 "metadata": {
  "kernelspec": {
   "display_name": "Python 3",
   "language": "python",
   "name": "python3"
  },
  "language_info": {
   "codemirror_mode": {
    "name": "ipython",
    "version": 3
   },
   "file_extension": ".py",
   "mimetype": "text/x-python",
   "name": "python",
   "nbconvert_exporter": "python",
   "pygments_lexer": "ipython3",
   "version": "3.6.5"
  }
 },
 "nbformat": 4,
 "nbformat_minor": 2
}
